{
 "cells": [
  {
   "cell_type": "code",
   "execution_count": null,
   "metadata": {},
   "outputs": [],
   "source": [
    "import time\n",
    "from scipy.sparse import csr_matrix\n",
    "from dolfin import *\n",
    "from block import *\n",
    "import fenics as fe\n",
    "\n",
    "from xii.assembler.average_matrix import average_matrix as average_3d1d_matrix, trace_3d1d_matrix\n",
    "from xii import *\n",
    "from scipy.sparse import *\n",
    "\n",
    "from ufl.corealg.traversal import traverse_unique_terminals\n",
    "import dolfin as df\n",
    "import ufl\n",
    "import numpy as np\n",
    "import matplotlib.pyplot as plt\n",
    "import common_fun as fun"
   ]
  },
  {
   "cell_type": "code",
   "execution_count": null,
   "metadata": {},
   "outputs": [],
   "source": [
    "def local_global_map_dict(submeshes):\n",
    "    array_dict=[]\n",
    "\n",
    "    for i in range (8):\n",
    "        mesh_curr=submeshes[i]\n",
    "        dictionary=mesh_curr.parent_entity_map[0][0]\n",
    "        array_dict.append(dictionary)\n",
    "\n",
    "    return array_dict\n",
    "\n",
    "def global_local_map_dict(array_dict):\n",
    "    dict_inv=[]\n",
    "    for i in range(8):\n",
    "        dizionario_invertito = {valore: chiave for chiave, valore in array_dict[i].items()}\n",
    "        dict_inv.append(dizionario_invertito)\n",
    "\n",
    "    return dict_inv    \n",
    "\n",
    "def find_index(valore, dictarray):\n",
    "    c=0\n",
    "    i=0\n",
    "    sub_index=[]\n",
    "    for dizionario in dictarray:\n",
    "        if valore in dizionario.values():\n",
    "            c=c+1\n",
    "            sub_index.append(i)\n",
    "        i=i+1     \n",
    "    if c==1:\n",
    "        print('presente in un unica submesh:')\n",
    "    else:\n",
    "        print(c)\n",
    "       \n",
    "    return sub_index  "
   ]
  },
  {
   "cell_type": "code",
   "execution_count": null,
   "metadata": {},
   "outputs": [],
   "source": [
    "# TO DEFINE\n",
    "# - mesh\n",
    "# - shape_mesh\n",
    "# - submeshes"
   ]
  },
  {
   "cell_type": "code",
   "execution_count": null,
   "metadata": {},
   "outputs": [],
   "source": [
    "mappa_indici={}\n",
    "for i in range (shape_mesh):\n",
    "    mappa_indici[i]=find_index(i, array_dict)"
   ]
  },
  {
   "cell_type": "code",
   "execution_count": null,
   "metadata": {},
   "outputs": [],
   "source": [
    "import pickle\n",
    "\n",
    "with open('dizionario.pkl', 'wb') as file:\n",
    "    pickle.dump(mappa_indici, file)"
   ]
  }
 ],
 "metadata": {
  "language_info": {
   "name": "python"
  }
 },
 "nbformat": 4,
 "nbformat_minor": 2
}
